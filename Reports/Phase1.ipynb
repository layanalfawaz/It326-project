{
  "metadata": {
    "kernelspec": {
      "name": "python",
      "display_name": "Python (Pyodide)",
      "language": "python"
    },
    "language_info": {
      "codemirror_mode": {
        "name": "python",
        "version": 3
      },
      "file_extension": ".py",
      "mimetype": "text/x-python",
      "name": "python",
      "nbconvert_exporter": "python",
      "pygments_lexer": "ipython3",
      "version": "3.8"
    }
  },
  "nbformat_minor": 5,
  "nbformat": 4,
  "cells": [
    {
      "id": "b41f401f-c45d-4549-9e31-4b4c252fbe6d",
      "cell_type": "code",
      "source": "import pandas as pd",
      "metadata": {
        "trusted": true
      },
      "outputs": [],
      "execution_count": 5
    },
    {
      "id": "890e44b5-2ff7-441f-94f8-67fa8b537b57",
      "cell_type": "markdown",
      "source": "**Phase1:**\n\n**Goal of Collecting Dataset:** Our goal is to apply both classification and clustering techniques to build machine learning models for analyzing stress levels based on lifestyle and demographic data. The classification model will predict an individual’s stress level (Low, Medium, High) using features such as sleep duration, exercise habits, and diet. The clustering model will identify patterns in the data by grouping individuals with similar lifestyle behaviors and uncovering distinct clusters related to stress profiles. These insights aim to support early identification, promote mental health awareness, and help develop strategies for stress management and healthier living.",
      "metadata": {},
      "attachments": {}
    },
    {
      "id": "3067923a-53ee-4471-9419-778347fcb9ae",
      "cell_type": "markdown",
      "source": "**Source of Dataset:** Mental Health And Lifestyle [https://www.kaggle.com/datasets/atharvasoundankar/mental-health-and-lifestyle-habits-2019-2024]",
      "metadata": {}
    },
    {
      "id": "03d80b50-fa78-4ffe-b7c2-cd3705400c8f",
      "cell_type": "markdown",
      "source": "**Read DataSet:**",
      "metadata": {}
    },
    {
      "id": "7cd4d0f1-6958-4b30-98ef-591eeec84bf5",
      "cell_type": "code",
      "source": "import pandas as pd\ndf = pd.read_csv('Mental_Health.csv')\n",
      "metadata": {
        "trusted": true
      },
      "outputs": [],
      "execution_count": 3
    },
    {
      "id": "d79a7e88-4038-499a-ad01-f0ba937acf6b",
      "cell_type": "markdown",
      "source": "**Genral information about the dataset:**",
      "metadata": {}
    },
    {
      "id": "7cae3a7b-befc-4b99-b6dd-207af4234390",
      "cell_type": "markdown",
      "source": "Number of Attributes: 12",
      "metadata": {}
    },
    {
      "id": "068bc69a-56ac-4890-9757-911f369d16fe",
      "cell_type": "markdown",
      "source": "Number of Objects: 3000",
      "metadata": {}
    },
    {
      "id": "4481cf18-40b8-46d1-a604-c8cd19609d55",
      "cell_type": "markdown",
      "source": "Class Lable: Stress level",
      "metadata": {}
    },
    {
      "id": "0a73ec6c-0947-428a-8fdc-76d674c78168",
      "cell_type": "code",
      "source": "attribute_information = pd.DataFrame({\n    'AttributeName': df.columns,\n    'DataType': df.dtypes.values\n})\n\nprint(f\"Number of attributes: {len(df.columns)}\\n\")\nprint(f\"Number of records: {len(df)}\\n\")\nprint(\"Attribute And Their Types:\")\nprint(attribute_information)\n",
      "metadata": {
        "trusted": true
      },
      "outputs": [
        {
          "name": "stdout",
          "output_type": "stream",
          "text": "Number of attributes: 12\n\nNumber of records: 3000\n\nAttribute And Their Types:\n                  AttributeName DataType\n0                       Country   object\n1                           Age    int64\n2                        Gender   object\n3                Exercise Level   object\n4                     Diet Type   object\n5                   Sleep Hours  float64\n6                  Stress Level   object\n7       Mental Health Condition   object\n8           Work Hours per Week    int64\n9   Screen Time per Day (Hours)  float64\n10     Social Interaction Score  float64\n11              Happiness Score  float64\n"
        }
      ],
      "execution_count": 6
    },
    {
      "id": "6a8a64ff-1783-4243-b9ed-e9ca2582d0cc",
      "cell_type": "code",
      "source": "",
      "metadata": {
        "trusted": true
      },
      "outputs": [],
      "execution_count": null
    }
  ]
}