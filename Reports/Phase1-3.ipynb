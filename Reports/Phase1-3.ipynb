{
  "metadata": {
    "kernelspec": {
      "name": "python",
      "display_name": "Python (Pyodide)",
      "language": "python"
    },
    "language_info": {
      "codemirror_mode": {
        "name": "python",
        "version": 3
      },
      "file_extension": ".py",
      "mimetype": "text/x-python",
      "name": "python",
      "nbconvert_exporter": "python",
      "pygments_lexer": "ipython3",
      "version": "3.8"
    },
    "colab": {
      "provenance": []
    }
  },
  "nbformat_minor": 5,
  "nbformat": 4,
  "cells": [
    {
      "id": "890e44b5-2ff7-441f-94f8-67fa8b537b57",
      "cell_type": "markdown",
      "source": [
        "**Phase1:**\n",
        "\n",
        "**Goal of Collecting Dataset:** Our goal is to apply both classification and clustering techniques to build machine learning models for analyzing stress levels based on lifestyle and demographic data. The classification model will predict an individual’s stress level (Low, Medium, High) using features such as sleep duration, exercise habits, and diet. The clustering model will identify patterns in the data by grouping individuals with similar lifestyle behaviors and uncovering distinct clusters related to stress profiles. These insights aim to support early identification, promote mental health awareness, and help develop strategies for stress management and healthier living."
      ],
      "metadata": {
        "id": "890e44b5-2ff7-441f-94f8-67fa8b537b57"
      }
    },
    {
      "id": "3067923a-53ee-4471-9419-778347fcb9ae",
      "cell_type": "markdown",
      "source": [
        "**Source of Dataset:** Mental Health And Lifestyle [https://www.kaggle.com/datasets/atharvasoundankar/mental-health-and-lifestyle-habits-2019-2024]"
      ],
      "metadata": {
        "id": "3067923a-53ee-4471-9419-778347fcb9ae"
      }
    },
    {
      "id": "03d80b50-fa78-4ffe-b7c2-cd3705400c8f",
      "cell_type": "markdown",
      "source": [
        "**Read DataSet:**"
      ],
      "metadata": {
        "id": "03d80b50-fa78-4ffe-b7c2-cd3705400c8f"
      }
    },
    {
      "id": "7cd4d0f1-6958-4b30-98ef-591eeec84bf5",
      "cell_type": "code",
      "source": [
        "import pandas as pd\n",
        "df = pd.read_csv('/content/drive/My Drive/Raw_dataset.csv')\n"
      ],
      "metadata": {
        "trusted": true,
        "id": "7cd4d0f1-6958-4b30-98ef-591eeec84bf5"
      },
      "outputs": [],
      "execution_count": 8
    },
    {
      "id": "d79a7e88-4038-499a-ad01-f0ba937acf6b",
      "cell_type": "markdown",
      "source": [
        "**Genral information about the dataset:**"
      ],
      "metadata": {
        "id": "d79a7e88-4038-499a-ad01-f0ba937acf6b"
      }
    },
    {
      "id": "7cae3a7b-befc-4b99-b6dd-207af4234390",
      "cell_type": "markdown",
      "source": [
        "Number of Attributes: 12"
      ],
      "metadata": {
        "id": "7cae3a7b-befc-4b99-b6dd-207af4234390"
      }
    },
    {
      "id": "068bc69a-56ac-4890-9757-911f369d16fe",
      "cell_type": "markdown",
      "source": [
        "Number of Objects: 3000"
      ],
      "metadata": {
        "id": "068bc69a-56ac-4890-9757-911f369d16fe"
      }
    },
    {
      "id": "4481cf18-40b8-46d1-a604-c8cd19609d55",
      "cell_type": "markdown",
      "source": [
        "Class Lable: Stress level"
      ],
      "metadata": {
        "id": "4481cf18-40b8-46d1-a604-c8cd19609d55"
      }
    },
    {
      "id": "0a73ec6c-0947-428a-8fdc-76d674c78168",
      "cell_type": "code",
      "source": [
        "attribute_information = pd.DataFrame({\n",
        "    'AttributeName': df.columns,\n",
        "    'DataType': df.dtypes.values\n",
        "})\n",
        "\n",
        "print(f\"Number of attributes: {len(df.columns)}\\n\")\n",
        "print(f\"Number of records: {len(df)}\\n\")\n",
        "print(\"Attribute And Their Types:\")\n",
        "print(attribute_information)\n",
        "print(\"\\nClass attribute (Stress Level) distribution:\")\n",
        "print(df['Stress Level'].value_counts())\n",
        "\n",
        "print(\"\\nSample of the dataset:\")\n",
        "print(df.head())\n"
      ],
      "metadata": {
        "trusted": true,
        "colab": {
          "base_uri": "https://localhost:8080/"
        },
        "id": "0a73ec6c-0947-428a-8fdc-76d674c78168",
        "outputId": "e2e1fbe3-826a-40b8-cce6-404fac115d4d"
      },
      "outputs": [
        {
          "output_type": "stream",
          "name": "stdout",
          "text": [
            "Number of attributes: 12\n",
            "\n",
            "Number of records: 3000\n",
            "\n",
            "Attribute And Their Types:\n",
            "                  AttributeName DataType\n",
            "0                       Country   object\n",
            "1                           Age    int64\n",
            "2                        Gender   object\n",
            "3                Exercise Level   object\n",
            "4                     Diet Type   object\n",
            "5                   Sleep Hours  float64\n",
            "6                  Stress Level   object\n",
            "7       Mental Health Condition   object\n",
            "8           Work Hours per Week    int64\n",
            "9   Screen Time per Day (Hours)  float64\n",
            "10     Social Interaction Score  float64\n",
            "11              Happiness Score  float64\n",
            "\n",
            "Class attribute (Stress Level) distribution:\n",
            "Stress Level\n",
            "Low         1008\n",
            "High        1002\n",
            "Moderate     990\n",
            "Name: count, dtype: int64\n",
            "\n",
            "Sample of the dataset:\n",
            "     Country  Age  Gender Exercise Level   Diet Type  Sleep Hours  \\\n",
            "0     Brazil   48    Male            Low  Vegetarian          6.3   \n",
            "1  Australia   31    Male       Moderate       Vegan          4.9   \n",
            "2      Japan   37  Female            Low  Vegetarian          7.2   \n",
            "3     Brazil   35    Male            Low       Vegan          7.2   \n",
            "4    Germany   46    Male            Low    Balanced          7.3   \n",
            "\n",
            "  Stress Level Mental Health Condition  Work Hours per Week  \\\n",
            "0          Low                     NaN                   21   \n",
            "1          Low                    PTSD                   48   \n",
            "2         High                     NaN                   43   \n",
            "3          Low              Depression                   43   \n",
            "4          Low                 Anxiety                   35   \n",
            "\n",
            "   Screen Time per Day (Hours)  Social Interaction Score  Happiness Score  \n",
            "0                          4.0                       7.8              6.5  \n",
            "1                          5.2                       8.2              6.8  \n",
            "2                          4.7                       9.6              9.7  \n",
            "3                          2.2                       8.2              6.6  \n",
            "4                          3.6                       4.7              4.4  \n"
          ]
        }
      ],
      "execution_count": 9
    }
  ]
}