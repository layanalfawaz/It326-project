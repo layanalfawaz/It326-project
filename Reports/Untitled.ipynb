{
  "metadata": {
    "kernelspec": {
      "name": "xcpp17",
      "display_name": "C++17",
      "language": "cpp"
    },
    "language_info": {
      "codemirror_mode": "text/x-c++src",
      "file_extension": ".cpp",
      "mimetype": "text/x-c++src",
      "name": "C++",
      "version": "17"
    }
  },
  "nbformat_minor": 5,
  "nbformat": 4,
  "cells": [
    {
      "id": "60847d29-75ea-4891-b43c-88910d3a4fea",
      "cell_type": "raw",
      "source": "\t\nPhase1:\n\nGoal of Collecting Dataset: Our goal is to apply both classification and clustering techniques to build machine learning models for analyzing stress levels based on lifestyle and demographic data. The classification model will predict an individual’s stress level (Low, Medium, High) using features such as sleep duration, exercise habits, and diet. The clustering model will identify patterns in the data by grouping individuals with similar lifestyle behaviors and uncovering distinct clusters related to stress profiles. These insights aim to support early identification, promote mental health awareness, and help develop strategies for stress management and healthier living.",
      "metadata": {}
    },
    {
      "id": "c8385a5c-6a49-448a-a3a4-ab9361787370",
      "cell_type": "raw",
      "source": "Source of Dataset: Mental Health And Lifestyle [https://www.kaggle.com/datasets/atharvasoundankar/mental-health-and-lifestyle-habits-2019-2024]\n",
      "metadata": {}
    },
    {
      "id": "523e0871-d4d0-4944-bffc-d2009dc6dcb7",
      "cell_type": "code",
      "source": "",
      "metadata": {
        "trusted": true
      },
      "outputs": [],
      "execution_count": null
    },
    {
      "id": "317cf67e-1f87-4e70-8edc-deef73399ffc",
      "cell_type": "code",
      "source": "",
      "metadata": {
        "trusted": true
      },
      "outputs": [],
      "execution_count": null
    },
    {
      "id": "d297fbf9-238b-4ea2-954b-0e4570ba48a6",
      "cell_type": "code",
      "source": "",
      "metadata": {
        "trusted": true
      },
      "outputs": [],
      "execution_count": null
    },
    {
      "id": "aefcb78b-07b4-4ef2-903b-8efc5b40cfe3",
      "cell_type": "code",
      "source": "",
      "metadata": {
        "trusted": true
      },
      "outputs": [],
      "execution_count": null
    },
    {
      "id": "6f17c55b-1b67-437f-93ba-78137736109e",
      "cell_type": "code",
      "source": "",
      "metadata": {
        "trusted": true
      },
      "outputs": [],
      "execution_count": null
    }
  ]
}